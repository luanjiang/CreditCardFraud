{
 "cells": [
  {
   "cell_type": "code",
   "execution_count": 1,
   "metadata": {
    "collapsed": true
   },
   "outputs": [],
   "source": [
    "import pandas as pd\n",
    "import numpy as np\n",
    "import tensorflow as tf \n",
    "import matplotlib.pyplot as plt\n",
    "import matplotlib.gridspec as gridspec\n",
    "%matplotlib inline\n",
    "import seaborn as sns\n",
    "from imblearn.over_sampling import SMOTE"
   ]
  },
  {
   "cell_type": "code",
   "execution_count": 115,
   "metadata": {
    "collapsed": true
   },
   "outputs": [],
   "source": [
    "from sklearn.model_selection import train_test_split\n",
    "from sklearn.utils import shuffle\n",
    "from sklearn.linear_model import LogisticRegression\n",
    "from sklearn.svm import SVC\n",
    "from sklearn.metrics import f1_score"
   ]
  },
  {
   "cell_type": "markdown",
   "metadata": {},
   "source": [
    "We have a dataset collected from two days in 2013 from European credit card holders.  The dataset contains 284,807 transactions, of which only 0.172% (492) are fraudulent so the two classes are highly unbalanced.  There are 30 numeric inputs, including time (in seconds), transacting amount, and 28 other inputs that have been anonymized using dimension reduction algorithm PCA due to confidentiality issues.  "
   ]
  },
  {
   "cell_type": "code",
   "execution_count": 4,
   "metadata": {},
   "outputs": [
    {
     "name": "stdout",
     "output_type": "stream",
     "text": [
      "Number of transactions:  284807\n",
      "Number of inputs:  31\n"
     ]
    },
    {
     "data": {
      "text/html": [
       "<div>\n",
       "<style>\n",
       "    .dataframe thead tr:only-child th {\n",
       "        text-align: right;\n",
       "    }\n",
       "\n",
       "    .dataframe thead th {\n",
       "        text-align: left;\n",
       "    }\n",
       "\n",
       "    .dataframe tbody tr th {\n",
       "        vertical-align: top;\n",
       "    }\n",
       "</style>\n",
       "<table border=\"1\" class=\"dataframe\">\n",
       "  <thead>\n",
       "    <tr style=\"text-align: right;\">\n",
       "      <th></th>\n",
       "      <th>Time</th>\n",
       "      <th>V1</th>\n",
       "      <th>V2</th>\n",
       "      <th>V3</th>\n",
       "      <th>V4</th>\n",
       "      <th>V5</th>\n",
       "      <th>V6</th>\n",
       "      <th>V7</th>\n",
       "      <th>V8</th>\n",
       "      <th>V9</th>\n",
       "      <th>...</th>\n",
       "      <th>V21</th>\n",
       "      <th>V22</th>\n",
       "      <th>V23</th>\n",
       "      <th>V24</th>\n",
       "      <th>V25</th>\n",
       "      <th>V26</th>\n",
       "      <th>V27</th>\n",
       "      <th>V28</th>\n",
       "      <th>Amount</th>\n",
       "      <th>Class</th>\n",
       "    </tr>\n",
       "  </thead>\n",
       "  <tbody>\n",
       "    <tr>\n",
       "      <th>0</th>\n",
       "      <td>0.0</td>\n",
       "      <td>-1.359807</td>\n",
       "      <td>-0.072781</td>\n",
       "      <td>2.536347</td>\n",
       "      <td>1.378155</td>\n",
       "      <td>-0.338321</td>\n",
       "      <td>0.462388</td>\n",
       "      <td>0.239599</td>\n",
       "      <td>0.098698</td>\n",
       "      <td>0.363787</td>\n",
       "      <td>...</td>\n",
       "      <td>-0.018307</td>\n",
       "      <td>0.277838</td>\n",
       "      <td>-0.110474</td>\n",
       "      <td>0.066928</td>\n",
       "      <td>0.128539</td>\n",
       "      <td>-0.189115</td>\n",
       "      <td>0.133558</td>\n",
       "      <td>-0.021053</td>\n",
       "      <td>149.62</td>\n",
       "      <td>0</td>\n",
       "    </tr>\n",
       "    <tr>\n",
       "      <th>1</th>\n",
       "      <td>0.0</td>\n",
       "      <td>1.191857</td>\n",
       "      <td>0.266151</td>\n",
       "      <td>0.166480</td>\n",
       "      <td>0.448154</td>\n",
       "      <td>0.060018</td>\n",
       "      <td>-0.082361</td>\n",
       "      <td>-0.078803</td>\n",
       "      <td>0.085102</td>\n",
       "      <td>-0.255425</td>\n",
       "      <td>...</td>\n",
       "      <td>-0.225775</td>\n",
       "      <td>-0.638672</td>\n",
       "      <td>0.101288</td>\n",
       "      <td>-0.339846</td>\n",
       "      <td>0.167170</td>\n",
       "      <td>0.125895</td>\n",
       "      <td>-0.008983</td>\n",
       "      <td>0.014724</td>\n",
       "      <td>2.69</td>\n",
       "      <td>0</td>\n",
       "    </tr>\n",
       "    <tr>\n",
       "      <th>2</th>\n",
       "      <td>1.0</td>\n",
       "      <td>-1.358354</td>\n",
       "      <td>-1.340163</td>\n",
       "      <td>1.773209</td>\n",
       "      <td>0.379780</td>\n",
       "      <td>-0.503198</td>\n",
       "      <td>1.800499</td>\n",
       "      <td>0.791461</td>\n",
       "      <td>0.247676</td>\n",
       "      <td>-1.514654</td>\n",
       "      <td>...</td>\n",
       "      <td>0.247998</td>\n",
       "      <td>0.771679</td>\n",
       "      <td>0.909412</td>\n",
       "      <td>-0.689281</td>\n",
       "      <td>-0.327642</td>\n",
       "      <td>-0.139097</td>\n",
       "      <td>-0.055353</td>\n",
       "      <td>-0.059752</td>\n",
       "      <td>378.66</td>\n",
       "      <td>0</td>\n",
       "    </tr>\n",
       "    <tr>\n",
       "      <th>3</th>\n",
       "      <td>1.0</td>\n",
       "      <td>-0.966272</td>\n",
       "      <td>-0.185226</td>\n",
       "      <td>1.792993</td>\n",
       "      <td>-0.863291</td>\n",
       "      <td>-0.010309</td>\n",
       "      <td>1.247203</td>\n",
       "      <td>0.237609</td>\n",
       "      <td>0.377436</td>\n",
       "      <td>-1.387024</td>\n",
       "      <td>...</td>\n",
       "      <td>-0.108300</td>\n",
       "      <td>0.005274</td>\n",
       "      <td>-0.190321</td>\n",
       "      <td>-1.175575</td>\n",
       "      <td>0.647376</td>\n",
       "      <td>-0.221929</td>\n",
       "      <td>0.062723</td>\n",
       "      <td>0.061458</td>\n",
       "      <td>123.50</td>\n",
       "      <td>0</td>\n",
       "    </tr>\n",
       "    <tr>\n",
       "      <th>4</th>\n",
       "      <td>2.0</td>\n",
       "      <td>-1.158233</td>\n",
       "      <td>0.877737</td>\n",
       "      <td>1.548718</td>\n",
       "      <td>0.403034</td>\n",
       "      <td>-0.407193</td>\n",
       "      <td>0.095921</td>\n",
       "      <td>0.592941</td>\n",
       "      <td>-0.270533</td>\n",
       "      <td>0.817739</td>\n",
       "      <td>...</td>\n",
       "      <td>-0.009431</td>\n",
       "      <td>0.798278</td>\n",
       "      <td>-0.137458</td>\n",
       "      <td>0.141267</td>\n",
       "      <td>-0.206010</td>\n",
       "      <td>0.502292</td>\n",
       "      <td>0.219422</td>\n",
       "      <td>0.215153</td>\n",
       "      <td>69.99</td>\n",
       "      <td>0</td>\n",
       "    </tr>\n",
       "  </tbody>\n",
       "</table>\n",
       "<p>5 rows × 31 columns</p>\n",
       "</div>"
      ],
      "text/plain": [
       "   Time        V1        V2        V3        V4        V5        V6        V7  \\\n",
       "0   0.0 -1.359807 -0.072781  2.536347  1.378155 -0.338321  0.462388  0.239599   \n",
       "1   0.0  1.191857  0.266151  0.166480  0.448154  0.060018 -0.082361 -0.078803   \n",
       "2   1.0 -1.358354 -1.340163  1.773209  0.379780 -0.503198  1.800499  0.791461   \n",
       "3   1.0 -0.966272 -0.185226  1.792993 -0.863291 -0.010309  1.247203  0.237609   \n",
       "4   2.0 -1.158233  0.877737  1.548718  0.403034 -0.407193  0.095921  0.592941   \n",
       "\n",
       "         V8        V9  ...         V21       V22       V23       V24  \\\n",
       "0  0.098698  0.363787  ...   -0.018307  0.277838 -0.110474  0.066928   \n",
       "1  0.085102 -0.255425  ...   -0.225775 -0.638672  0.101288 -0.339846   \n",
       "2  0.247676 -1.514654  ...    0.247998  0.771679  0.909412 -0.689281   \n",
       "3  0.377436 -1.387024  ...   -0.108300  0.005274 -0.190321 -1.175575   \n",
       "4 -0.270533  0.817739  ...   -0.009431  0.798278 -0.137458  0.141267   \n",
       "\n",
       "        V25       V26       V27       V28  Amount  Class  \n",
       "0  0.128539 -0.189115  0.133558 -0.021053  149.62      0  \n",
       "1  0.167170  0.125895 -0.008983  0.014724    2.69      0  \n",
       "2 -0.327642 -0.139097 -0.055353 -0.059752  378.66      0  \n",
       "3  0.647376 -0.221929  0.062723  0.061458  123.50      0  \n",
       "4 -0.206010  0.502292  0.219422  0.215153   69.99      0  \n",
       "\n",
       "[5 rows x 31 columns]"
      ]
     },
     "execution_count": 4,
     "metadata": {},
     "output_type": "execute_result"
    }
   ],
   "source": [
    "df = pd.read_csv('creditcard.csv')\n",
    "print ('Number of transactions: ', df.shape[0])\n",
    "print ('Number of inputs: ', df.shape[1])\n",
    "df.head()"
   ]
  },
  {
   "cell_type": "code",
   "execution_count": 5,
   "metadata": {},
   "outputs": [
    {
     "name": "stdout",
     "output_type": "stream",
     "text": [
      "The number of days these transactions span:  1.99990740741\n"
     ]
    }
   ],
   "source": [
    "print ('The number of days these transactions span: ', df['Time'].max()/(3600*24))"
   ]
  },
  {
   "cell_type": "code",
   "execution_count": 6,
   "metadata": {},
   "outputs": [
    {
     "data": {
      "image/png": "[encoded data removed]",
      "text/plain": [
       "<matplotlib.figure.Figure at 0x24a2e7416a0>"
      ]
     },
     "metadata": {},
     "output_type": "display_data"
    }
   ],
   "source": [
    "x = ['Fraud', 'Normal']\n",
    "y = [sum(df['Class']==1), sum(df['Class']==0)]\n",
    "\n",
    "fig, ax = plt.subplots()    \n",
    "width = 0.75 # the width of the bars \n",
    "ind = np.arange(len(y))  # the x locations for the groups\n",
    "ax.barh(ind, y, width, color=\"blue\")\n",
    "ax.set_yticks(ind+width/2)\n",
    "ax.set_yticklabels(x, minor=False)\n",
    "plt.title('Number of Fraud vs Normal')\n",
    "plt.xlabel('Count')\n",
    "plt.ylabel('Class')\n",
    "for i, v in enumerate(y):\n",
    "    ax.text(v + 3, i , str(v), color='blue', fontweight='bold')"
   ]
  },
  {
   "cell_type": "markdown",
   "metadata": {},
   "source": [
    "Let's take a look at the distribution of inputs Time, Amount, and the first three annonymized inputs.  Bars in red represent fraud, and bars in green represent normal transactions. "
   ]
  },
  {
   "cell_type": "code",
   "execution_count": 7,
   "metadata": {},
   "outputs": [
    {
     "data": {
      "image/png": "[encoded data removed]",
      "text/plain": [
       "<matplotlib.figure.Figure at 0x24a2e8ed518>"
      ]
     },
     "metadata": {},
     "output_type": "display_data"
    }
   ],
   "source": [
    "plt.figure(figsize=(12,5*4))\n",
    "gs = gridspec.GridSpec(5, 1)\n",
    "col_names = ['Time', 'Amount', 'V1', 'V2', 'V3']\n",
    "for i, cn in enumerate(col_names):\n",
    "    ax = plt.subplot(gs[i])\n",
    "    sns.distplot(df[cn][df.Class == 1], bins=50, color='red')\n",
    "    sns.distplot(df[cn][df.Class == 0], bins=50, color='green')\n",
    "    ax.set_xlabel('')\n",
    "    ax.set_title('histogram of feature: ' + str(cn))\n",
    "plt.show()"
   ]
  },
  {
   "cell_type": "markdown",
   "metadata": {},
   "source": [
    "We can see that time seems to have a seasonal trend for normal transactions.  While fraud seems to occur more uniformly throughout.  So maybe we can find fraudulent transactions easier during off-peak hours.  \n",
    "Fraudulent transactions seem to all have very small amount compare to normal transactions.\n",
    "We see a difference in distributions between fraud and normal transactions in the three anonymized inputs as well.  \n",
    "Perhaps we can find some patterns here that can help us identify fraud.  Deep Learning excel at discovering complex patterns within data, which is why it's so widely used in image identification and voice recognition.  So perhaps we can deploy Deep Learning here as well to predict the class label.  "
   ]
  },
  {
   "cell_type": "markdown",
   "metadata": {},
   "source": [
    "We will split the data into train and test."
   ]
  },
  {
   "cell_type": "code",
   "execution_count": 21,
   "metadata": {
    "collapsed": true
   },
   "outputs": [],
   "source": [
    "training_inputs, test_inputs, training_target, test_target\\\n",
    "= train_test_split(df.drop('Class', axis=1), df['Class'], test_size = .2, random_state=2)"
   ]
  },
  {
   "cell_type": "markdown",
   "metadata": {},
   "source": [
    "We will also normalized the inputs to have mean of 0 and standard deviation of 1 to increase model accuracy."
   ]
  },
  {
   "cell_type": "code",
   "execution_count": 22,
   "metadata": {
    "collapsed": true
   },
   "outputs": [],
   "source": [
    "features = training_inputs.columns.values\n",
    "for feature in features:\n",
    "    mean, std = df[feature].mean(), df[feature].std()\n",
    "    training_inputs.loc[:, feature] = (training_inputs[feature] - mean) / std\n",
    "    test_inputs.loc[:, feature] = (test_inputs[feature] - mean) / std"
   ]
  },
  {
   "cell_type": "code",
   "execution_count": 23,
   "metadata": {},
   "outputs": [
    {
     "data": {
      "text/html": [
       "<div>\n",
       "<style>\n",
       "    .dataframe thead tr:only-child th {\n",
       "        text-align: right;\n",
       "    }\n",
       "\n",
       "    .dataframe thead th {\n",
       "        text-align: left;\n",
       "    }\n",
       "\n",
       "    .dataframe tbody tr th {\n",
       "        vertical-align: top;\n",
       "    }\n",
       "</style>\n",
       "<table border=\"1\" class=\"dataframe\">\n",
       "  <thead>\n",
       "    <tr style=\"text-align: right;\">\n",
       "      <th></th>\n",
       "      <th>Time</th>\n",
       "      <th>V1</th>\n",
       "      <th>V2</th>\n",
       "      <th>V3</th>\n",
       "      <th>V4</th>\n",
       "      <th>V5</th>\n",
       "      <th>V6</th>\n",
       "      <th>V7</th>\n",
       "      <th>V8</th>\n",
       "      <th>V9</th>\n",
       "      <th>...</th>\n",
       "      <th>V20</th>\n",
       "      <th>V21</th>\n",
       "      <th>V22</th>\n",
       "      <th>V23</th>\n",
       "      <th>V24</th>\n",
       "      <th>V25</th>\n",
       "      <th>V26</th>\n",
       "      <th>V27</th>\n",
       "      <th>V28</th>\n",
       "      <th>Amount</th>\n",
       "    </tr>\n",
       "  </thead>\n",
       "  <tbody>\n",
       "    <tr>\n",
       "      <th>136700</th>\n",
       "      <td>-0.273476</td>\n",
       "      <td>-0.320061</td>\n",
       "      <td>0.710219</td>\n",
       "      <td>1.154571</td>\n",
       "      <td>0.613086</td>\n",
       "      <td>0.011175</td>\n",
       "      <td>-0.578718</td>\n",
       "      <td>0.822388</td>\n",
       "      <td>-0.446667</td>\n",
       "      <td>-0.386571</td>\n",
       "      <td>...</td>\n",
       "      <td>0.023126</td>\n",
       "      <td>0.095628</td>\n",
       "      <td>0.508677</td>\n",
       "      <td>-0.102161</td>\n",
       "      <td>1.212090</td>\n",
       "      <td>-0.577967</td>\n",
       "      <td>-1.041087</td>\n",
       "      <td>-0.929422</td>\n",
       "      <td>-0.246044</td>\n",
       "      <td>-0.273307</td>\n",
       "    </tr>\n",
       "    <tr>\n",
       "      <th>43219</th>\n",
       "      <td>-1.124362</td>\n",
       "      <td>-0.003098</td>\n",
       "      <td>-1.747664</td>\n",
       "      <td>-0.504228</td>\n",
       "      <td>0.064567</td>\n",
       "      <td>-1.222531</td>\n",
       "      <td>-0.645379</td>\n",
       "      <td>0.504839</td>\n",
       "      <td>-0.348600</td>\n",
       "      <td>-0.595996</td>\n",
       "      <td>...</td>\n",
       "      <td>1.910824</td>\n",
       "      <td>0.795835</td>\n",
       "      <td>-0.005248</td>\n",
       "      <td>-1.283519</td>\n",
       "      <td>0.749050</td>\n",
       "      <td>0.910274</td>\n",
       "      <td>-0.290900</td>\n",
       "      <td>-0.390059</td>\n",
       "      <td>0.394504</td>\n",
       "      <td>2.649808</td>\n",
       "    </tr>\n",
       "    <tr>\n",
       "      <th>18819</th>\n",
       "      <td>-1.369223</td>\n",
       "      <td>-0.271361</td>\n",
       "      <td>0.370609</td>\n",
       "      <td>1.106351</td>\n",
       "      <td>0.905241</td>\n",
       "      <td>0.339163</td>\n",
       "      <td>0.019286</td>\n",
       "      <td>0.727610</td>\n",
       "      <td>-0.256865</td>\n",
       "      <td>0.230143</td>\n",
       "      <td>...</td>\n",
       "      <td>0.220539</td>\n",
       "      <td>-0.198022</td>\n",
       "      <td>0.328590</td>\n",
       "      <td>-0.117160</td>\n",
       "      <td>0.109449</td>\n",
       "      <td>-0.299933</td>\n",
       "      <td>-0.588283</td>\n",
       "      <td>-0.054332</td>\n",
       "      <td>-0.743296</td>\n",
       "      <td>-0.270588</td>\n",
       "    </tr>\n",
       "    <tr>\n",
       "      <th>174557</th>\n",
       "      <td>0.571788</td>\n",
       "      <td>0.913644</td>\n",
       "      <td>-0.337076</td>\n",
       "      <td>-1.012280</td>\n",
       "      <td>0.242934</td>\n",
       "      <td>0.146465</td>\n",
       "      <td>0.088727</td>\n",
       "      <td>-0.183992</td>\n",
       "      <td>-0.003303</td>\n",
       "      <td>0.885316</td>\n",
       "      <td>...</td>\n",
       "      <td>0.288263</td>\n",
       "      <td>-0.419293</td>\n",
       "      <td>-1.560485</td>\n",
       "      <td>0.295105</td>\n",
       "      <td>-0.700375</td>\n",
       "      <td>-0.966757</td>\n",
       "      <td>0.277943</td>\n",
       "      <td>-0.122509</td>\n",
       "      <td>0.020534</td>\n",
       "      <td>0.276509</td>\n",
       "    </tr>\n",
       "    <tr>\n",
       "      <th>120641</th>\n",
       "      <td>-0.398202</td>\n",
       "      <td>0.640315</td>\n",
       "      <td>-0.064365</td>\n",
       "      <td>-0.582258</td>\n",
       "      <td>0.217749</td>\n",
       "      <td>1.438459</td>\n",
       "      <td>2.858775</td>\n",
       "      <td>-0.553066</td>\n",
       "      <td>0.785942</td>\n",
       "      <td>0.378925</td>\n",
       "      <td>...</td>\n",
       "      <td>-0.063433</td>\n",
       "      <td>-0.187375</td>\n",
       "      <td>-0.399574</td>\n",
       "      <td>-0.212050</td>\n",
       "      <td>1.681499</td>\n",
       "      <td>1.654477</td>\n",
       "      <td>-0.586077</td>\n",
       "      <td>0.106751</td>\n",
       "      <td>0.047032</td>\n",
       "      <td>-0.344033</td>\n",
       "    </tr>\n",
       "  </tbody>\n",
       "</table>\n",
       "<p>5 rows × 30 columns</p>\n",
       "</div>"
      ],
      "text/plain": [
       "            Time        V1        V2        V3        V4        V5        V6  \\\n",
       "136700 -0.273476 -0.320061  0.710219  1.154571  0.613086  0.011175 -0.578718   \n",
       "43219  -1.124362 -0.003098 -1.747664 -0.504228  0.064567 -1.222531 -0.645379   \n",
       "18819  -1.369223 -0.271361  0.370609  1.106351  0.905241  0.339163  0.019286   \n",
       "174557  0.571788  0.913644 -0.337076 -1.012280  0.242934  0.146465  0.088727   \n",
       "120641 -0.398202  0.640315 -0.064365 -0.582258  0.217749  1.438459  2.858775   \n",
       "\n",
       "              V7        V8        V9    ...          V20       V21       V22  \\\n",
       "136700  0.822388 -0.446667 -0.386571    ...     0.023126  0.095628  0.508677   \n",
       "43219   0.504839 -0.348600 -0.595996    ...     1.910824  0.795835 -0.005248   \n",
       "18819   0.727610 -0.256865  0.230143    ...     0.220539 -0.198022  0.328590   \n",
       "174557 -0.183992 -0.003303  0.885316    ...     0.288263 -0.419293 -1.560485   \n",
       "120641 -0.553066  0.785942  0.378925    ...    -0.063433 -0.187375 -0.399574   \n",
       "\n",
       "             V23       V24       V25       V26       V27       V28    Amount  \n",
       "136700 -0.102161  1.212090 -0.577967 -1.041087 -0.929422 -0.246044 -0.273307  \n",
       "43219  -1.283519  0.749050  0.910274 -0.290900 -0.390059  0.394504  2.649808  \n",
       "18819  -0.117160  0.109449 -0.299933 -0.588283 -0.054332 -0.743296 -0.270588  \n",
       "174557  0.295105 -0.700375 -0.966757  0.277943 -0.122509  0.020534  0.276509  \n",
       "120641 -0.212050  1.681499  1.654477 -0.586077  0.106751  0.047032 -0.344033  \n",
       "\n",
       "[5 rows x 30 columns]"
      ]
     },
     "execution_count": 23,
     "metadata": {},
     "output_type": "execute_result"
    }
   ],
   "source": [
    "training_inputs.head()"
   ]
  },
  {
   "cell_type": "code",
   "execution_count": 24,
   "metadata": {},
   "outputs": [
    {
     "data": {
      "text/html": [
       "<div>\n",
       "<style>\n",
       "    .dataframe thead tr:only-child th {\n",
       "        text-align: right;\n",
       "    }\n",
       "\n",
       "    .dataframe thead th {\n",
       "        text-align: left;\n",
       "    }\n",
       "\n",
       "    .dataframe tbody tr th {\n",
       "        vertical-align: top;\n",
       "    }\n",
       "</style>\n",
       "<table border=\"1\" class=\"dataframe\">\n",
       "  <thead>\n",
       "    <tr style=\"text-align: right;\">\n",
       "      <th></th>\n",
       "      <th>Time</th>\n",
       "      <th>V1</th>\n",
       "      <th>V2</th>\n",
       "      <th>V3</th>\n",
       "      <th>V4</th>\n",
       "      <th>V5</th>\n",
       "      <th>V6</th>\n",
       "      <th>V7</th>\n",
       "      <th>V8</th>\n",
       "      <th>V9</th>\n",
       "      <th>...</th>\n",
       "      <th>V20</th>\n",
       "      <th>V21</th>\n",
       "      <th>V22</th>\n",
       "      <th>V23</th>\n",
       "      <th>V24</th>\n",
       "      <th>V25</th>\n",
       "      <th>V26</th>\n",
       "      <th>V27</th>\n",
       "      <th>V28</th>\n",
       "      <th>Amount</th>\n",
       "    </tr>\n",
       "  </thead>\n",
       "  <tbody>\n",
       "    <tr>\n",
       "      <th>225184</th>\n",
       "      <td>1.038704</td>\n",
       "      <td>-0.296861</td>\n",
       "      <td>0.575463</td>\n",
       "      <td>0.076463</td>\n",
       "      <td>-0.978034</td>\n",
       "      <td>1.005881</td>\n",
       "      <td>-1.197713</td>\n",
       "      <td>1.714395</td>\n",
       "      <td>-0.601961</td>\n",
       "      <td>-0.186788</td>\n",
       "      <td>...</td>\n",
       "      <td>-0.379793</td>\n",
       "      <td>0.208952</td>\n",
       "      <td>0.904708</td>\n",
       "      <td>-0.823418</td>\n",
       "      <td>0.127499</td>\n",
       "      <td>1.412337</td>\n",
       "      <td>-0.627234</td>\n",
       "      <td>-0.631422</td>\n",
       "      <td>-0.382567</td>\n",
       "      <td>-0.301973</td>\n",
       "    </tr>\n",
       "    <tr>\n",
       "      <th>116637</th>\n",
       "      <td>-0.430526</td>\n",
       "      <td>0.350606</td>\n",
       "      <td>-0.475735</td>\n",
       "      <td>0.623307</td>\n",
       "      <td>1.042917</td>\n",
       "      <td>-0.862943</td>\n",
       "      <td>-0.145004</td>\n",
       "      <td>-0.176190</td>\n",
       "      <td>-0.009903</td>\n",
       "      <td>0.661888</td>\n",
       "      <td>...</td>\n",
       "      <td>0.503967</td>\n",
       "      <td>0.378421</td>\n",
       "      <td>0.578314</td>\n",
       "      <td>-0.503319</td>\n",
       "      <td>0.705640</td>\n",
       "      <td>0.818629</td>\n",
       "      <td>-0.592168</td>\n",
       "      <td>0.056749</td>\n",
       "      <td>0.241872</td>\n",
       "      <td>0.671839</td>\n",
       "    </tr>\n",
       "    <tr>\n",
       "      <th>99414</th>\n",
       "      <td>-0.583448</td>\n",
       "      <td>-0.433143</td>\n",
       "      <td>0.735364</td>\n",
       "      <td>0.629755</td>\n",
       "      <td>-0.021291</td>\n",
       "      <td>-0.128619</td>\n",
       "      <td>-0.639400</td>\n",
       "      <td>0.359093</td>\n",
       "      <td>0.309007</td>\n",
       "      <td>-0.914939</td>\n",
       "      <td>...</td>\n",
       "      <td>0.103292</td>\n",
       "      <td>0.280356</td>\n",
       "      <td>0.761270</td>\n",
       "      <td>-0.103841</td>\n",
       "      <td>0.974300</td>\n",
       "      <td>-0.521387</td>\n",
       "      <td>0.573257</td>\n",
       "      <td>0.539700</td>\n",
       "      <td>0.386946</td>\n",
       "      <td>-0.287500</td>\n",
       "    </tr>\n",
       "    <tr>\n",
       "      <th>217619</th>\n",
       "      <td>0.971845</td>\n",
       "      <td>-0.563878</td>\n",
       "      <td>0.373614</td>\n",
       "      <td>-0.579700</td>\n",
       "      <td>-0.220952</td>\n",
       "      <td>-0.066736</td>\n",
       "      <td>-0.015480</td>\n",
       "      <td>1.149843</td>\n",
       "      <td>0.370308</td>\n",
       "      <td>-0.370099</td>\n",
       "      <td>...</td>\n",
       "      <td>0.664003</td>\n",
       "      <td>0.360784</td>\n",
       "      <td>0.604651</td>\n",
       "      <td>0.662622</td>\n",
       "      <td>1.072862</td>\n",
       "      <td>-0.158736</td>\n",
       "      <td>1.079529</td>\n",
       "      <td>0.374359</td>\n",
       "      <td>0.657102</td>\n",
       "      <td>0.726253</td>\n",
       "    </tr>\n",
       "    <tr>\n",
       "      <th>279878</th>\n",
       "      <td>1.565467</td>\n",
       "      <td>1.052734</td>\n",
       "      <td>-0.069495</td>\n",
       "      <td>-0.711890</td>\n",
       "      <td>0.301625</td>\n",
       "      <td>-0.166420</td>\n",
       "      <td>-0.931574</td>\n",
       "      <td>0.098598</td>\n",
       "      <td>-0.237226</td>\n",
       "      <td>0.618881</td>\n",
       "      <td>...</td>\n",
       "      <td>-0.369063</td>\n",
       "      <td>-0.407798</td>\n",
       "      <td>-1.064257</td>\n",
       "      <td>0.564931</td>\n",
       "      <td>0.034939</td>\n",
       "      <td>-0.633897</td>\n",
       "      <td>0.411656</td>\n",
       "      <td>-0.189838</td>\n",
       "      <td>-0.187544</td>\n",
       "      <td>-0.348071</td>\n",
       "    </tr>\n",
       "  </tbody>\n",
       "</table>\n",
       "<p>5 rows × 30 columns</p>\n",
       "</div>"
      ],
      "text/plain": [
       "            Time        V1        V2        V3        V4        V5        V6  \\\n",
       "225184  1.038704 -0.296861  0.575463  0.076463 -0.978034  1.005881 -1.197713   \n",
       "116637 -0.430526  0.350606 -0.475735  0.623307  1.042917 -0.862943 -0.145004   \n",
       "99414  -0.583448 -0.433143  0.735364  0.629755 -0.021291 -0.128619 -0.639400   \n",
       "217619  0.971845 -0.563878  0.373614 -0.579700 -0.220952 -0.066736 -0.015480   \n",
       "279878  1.565467  1.052734 -0.069495 -0.711890  0.301625 -0.166420 -0.931574   \n",
       "\n",
       "              V7        V8        V9    ...          V20       V21       V22  \\\n",
       "225184  1.714395 -0.601961 -0.186788    ...    -0.379793  0.208952  0.904708   \n",
       "116637 -0.176190 -0.009903  0.661888    ...     0.503967  0.378421  0.578314   \n",
       "99414   0.359093  0.309007 -0.914939    ...     0.103292  0.280356  0.761270   \n",
       "217619  1.149843  0.370308 -0.370099    ...     0.664003  0.360784  0.604651   \n",
       "279878  0.098598 -0.237226  0.618881    ...    -0.369063 -0.407798 -1.064257   \n",
       "\n",
       "             V23       V24       V25       V26       V27       V28    Amount  \n",
       "225184 -0.823418  0.127499  1.412337 -0.627234 -0.631422 -0.382567 -0.301973  \n",
       "116637 -0.503319  0.705640  0.818629 -0.592168  0.056749  0.241872  0.671839  \n",
       "99414  -0.103841  0.974300 -0.521387  0.573257  0.539700  0.386946 -0.287500  \n",
       "217619  0.662622  1.072862 -0.158736  1.079529  0.374359  0.657102  0.726253  \n",
       "279878  0.564931  0.034939 -0.633897  0.411656 -0.189838 -0.187544 -0.348071  \n",
       "\n",
       "[5 rows x 30 columns]"
      ]
     },
     "execution_count": 24,
     "metadata": {},
     "output_type": "execute_result"
    }
   ],
   "source": [
    "test_inputs.head()"
   ]
  },
  {
   "cell_type": "markdown",
   "metadata": {},
   "source": [
    "Further split training into train and validation."
   ]
  },
  {
   "cell_type": "code",
   "execution_count": 25,
   "metadata": {
    "collapsed": true
   },
   "outputs": [],
   "source": [
    "x_train, x_val, y_train, y_val = train_test_split(training_inputs, training_target, test_size = .15, random_state= 2)"
   ]
  },
  {
   "cell_type": "code",
   "execution_count": 26,
   "metadata": {},
   "outputs": [
    {
     "name": "stdout",
     "output_type": "stream",
     "text": [
      "(193668, 30) (193668,) (34177, 30) (34177,) (56962, 30) (56962,)\n"
     ]
    }
   ],
   "source": [
    "print (x_train.shape, y_train.shape, x_val.shape, y_val.shape, test_inputs.shape, test_target.shape)"
   ]
  },
  {
   "cell_type": "code",
   "execution_count": 27,
   "metadata": {},
   "outputs": [
    {
     "name": "stdout",
     "output_type": "stream",
     "text": [
      "347\n"
     ]
    }
   ],
   "source": [
    "# number of fraud in training set\n",
    "print (sum(y_train.as_matrix() ==1))"
   ]
  },
  {
   "cell_type": "markdown",
   "metadata": {},
   "source": [
    "There are only 347 fraud cases in training.  It's easier for our model to predict normal for all transactions.  So we will do upsampling when training the model, then test the result on validation and test data to see if upsampling imporved recall score.\n",
    "We are going to increase the number of fraud cases in training using Synthetic Minority Over-sampling Technique, which uses k-nearest-neighbors to create similar but randomly tweeked cases of the minority class."
   ]
  },
  {
   "cell_type": "code",
   "execution_count": 28,
   "metadata": {},
   "outputs": [
    {
     "name": "stderr",
     "output_type": "stream",
     "text": [
      "C:\\Users\\LuanJiang\\Anaconda2\\envs\\py35\\lib\\site-packages\\sklearn\\utils\\deprecation.py:75: DeprecationWarning: Function _ratio_float is deprecated; Use a float for 'ratio' is deprecated from version 0.2. The support will be removed in 0.4. Use a dict, str, or a callable instead.\n",
      "  warnings.warn(msg, category=DeprecationWarning)\n"
     ]
    }
   ],
   "source": [
    "sm = SMOTE(random_state=2, ratio = 1.0)\n",
    "x_train_up, y_train_up = sm.fit_sample(x_train.as_matrix(), y_train.as_matrix())"
   ]
  },
  {
   "cell_type": "code",
   "execution_count": 29,
   "metadata": {},
   "outputs": [
    {
     "data": {
      "image/png": "[encoded data removed]",
      "text/plain": [
       "<matplotlib.figure.Figure at 0x24a3188c0b8>"
      ]
     },
     "metadata": {},
     "output_type": "display_data"
    }
   ],
   "source": [
    "x = ['Upsampled Fraud', 'Normal']\n",
    "y = [sum(y_train_up==1), sum(y_train_up==0)]\n",
    "\n",
    "fig, ax = plt.subplots()    \n",
    "width = 0.75 # the width of the bars \n",
    "ind = np.arange(len(y))  # the x locations for the groups\n",
    "ax.barh(ind, y, width, color=\"blue\")\n",
    "ax.set_yticks(ind+width/2)\n",
    "ax.set_yticklabels(x, minor=False)\n",
    "plt.title('Number of Fraud vs Normal')\n",
    "plt.xlabel('Count')\n",
    "plt.ylabel('Class')\n",
    "for i, v in enumerate(y):\n",
    "    ax.text(v + 3, i , str(v), color='blue', fontweight='bold')"
   ]
  },
  {
   "cell_type": "markdown",
   "metadata": {},
   "source": [
    "Now our class labels in training are balanced. "
   ]
  },
  {
   "cell_type": "markdown",
   "metadata": {},
   "source": [
    "However, SMOTE algorithm has the transactions in sequence according to the label. So we have to shuffle the training data to prevent our model from predicting using the sequence."
   ]
  },
  {
   "cell_type": "code",
   "execution_count": 40,
   "metadata": {},
   "outputs": [
    {
     "data": {
      "text/plain": [
       "array([0, 0, 0, ..., 1, 1, 1], dtype=int64)"
      ]
     },
     "execution_count": 40,
     "metadata": {},
     "output_type": "execute_result"
    }
   ],
   "source": [
    "y_train_up"
   ]
  },
  {
   "cell_type": "code",
   "execution_count": 39,
   "metadata": {},
   "outputs": [],
   "source": [
    "pd_up = pd.concat([pd.DataFrame(x_train_up),pd.DataFrame(y_train_up)], axis= 1)\n",
    "mx_up_shuffled = shuffle(pd_up).as_matrix()\n",
    "y_train_up_shuffled = mx_up_shuffled[:, -1]\n",
    "x_train_up_shuffled = mx_up_shuffled[:, 0:-1]"
   ]
  },
  {
   "cell_type": "code",
   "execution_count": 42,
   "metadata": {},
   "outputs": [
    {
     "data": {
      "text/plain": [
       "array([ 1.,  0.,  0., ...,  0.,  0.,  0.])"
      ]
     },
     "execution_count": 42,
     "metadata": {},
     "output_type": "execute_result"
    }
   ],
   "source": [
    "y_train_up_shuffled"
   ]
  },
  {
   "cell_type": "markdown",
   "metadata": {},
   "source": [
    "Now we convert the inputs into matrix and labels into one-hot-encoding so our model can ingest the data."
   ]
  },
  {
   "cell_type": "code",
   "execution_count": 47,
   "metadata": {},
   "outputs": [],
   "source": [
    "num_labels = 2\n",
    "inputX = x_train_up_shuffled.astype(np.float32)\n",
    "inputY = np.eye(num_labels)[y_train_up_shuffled.astype(np.int)].astype(np.float32)\n",
    "inputX_valid = x_val.as_matrix().astype(np.float32)\n",
    "inputY_valid = np.eye(num_labels)[y_val.as_matrix()].astype(np.float32)\n",
    "inputX_test = test_inputs.as_matrix().astype(np.float32)\n",
    "inputY_test = np.eye(num_labels)[test_target.as_matrix()].astype(np.float32)"
   ]
  },
  {
   "cell_type": "markdown",
   "metadata": {},
   "source": [
    "Now we can define some of the parameters for the model we are about to train.  (These values were selected after grid search with different combinations of parameters)."
   ]
  },
  {
   "cell_type": "code",
   "execution_count": 71,
   "metadata": {
    "collapsed": true
   },
   "outputs": [],
   "source": [
    "batch_size = 74\n",
    "num_nodes = 20\n",
    "num_features = inputX.shape[1]\n",
    "keep_prob =0.9\n",
    "learning_rate = 0.004\n",
    "training_epochs = 2000\n",
    "num_samples = inputX.shape[0]"
   ]
  },
  {
   "cell_type": "markdown",
   "metadata": {},
   "source": [
    "This is how the model performance will be measured. "
   ]
  },
  {
   "cell_type": "code",
   "execution_count": 67,
   "metadata": {
    "collapsed": true
   },
   "outputs": [],
   "source": [
    "def accuracy(predictions, labels):\n",
    "    return (100.0*np.sum(np.argmax(predictions,1) ==np.argmax(labels, 1)) / predictions.shape[0])"
   ]
  },
  {
   "cell_type": "code",
   "execution_count": 86,
   "metadata": {
    "collapsed": true
   },
   "outputs": [],
   "source": [
    "def recall(labels, predictions):\n",
    "    tp = np.sum((np.argmax(predictions,1)==1) & (np.argmax(labels, 1)==1))\n",
    "    fn = np.sum((np.argmax(predictions,1)==0) & (np.argmax(labels, 1)==1))\n",
    "    return (100.0*tp/(tp+fn))"
   ]
  },
  {
   "cell_type": "code",
   "execution_count": 89,
   "metadata": {
    "collapsed": true
   },
   "outputs": [],
   "source": [
    "def precision(labels, predictions):\n",
    "    tp = np.sum((np.argmax(predictions,1)==1) & (np.argmax(labels, 1)==1))\n",
    "    fp = np.sum((np.argmax(predictions,1)==1) & (np.argmax(labels, 1)==0))\n",
    "    return (100.0*tp/(tp+fp))"
   ]
  },
  {
   "cell_type": "markdown",
   "metadata": {},
   "source": [
    "Below we will demonstrate the model with the best result, which is a deep neural network with 3 hidden layers, one dropout layer, and use RELU as its activation function.  Due to the high inbalance in data, we chose to use F1 score as the training stopping criteria, which is the weighted average of precision and recall."
   ]
  },
  {
   "cell_type": "code",
   "execution_count": 91,
   "metadata": {
    "collapsed": true
   },
   "outputs": [],
   "source": [
    "# best result: 3 hidden layers, dropout, no regularization, relu as activation\n",
    "graph= tf.Graph()\n",
    "with graph.as_default():\n",
    "    tf_train_dataset = tf.placeholder(tf.float32, \\\n",
    "                                     shape =(batch_size, num_features))\n",
    "    tf_train_labels = tf.placeholder(tf.float32, shape =(batch_size, num_labels))\n",
    "    tf_valid_dataset = tf.constant(inputX_valid)\n",
    "    tf_test_dataset = tf.constant(inputX_test)\n",
    "    \n",
    "    #input\n",
    "    weights1 = tf.Variable(tf.truncated_normal([num_features, num_nodes], stddev = 0.15))\n",
    "    biases1 = tf.Variable(tf.zeros(num_nodes))\n",
    "    hidden1 = tf.nn.relu(tf.matmul(tf_train_dataset, weights1) + biases1)\n",
    "    # layer2\n",
    "    weights2 = tf.Variable(tf.truncated_normal([num_nodes, num_nodes], stddev = 0.15))\n",
    "    biases2 = tf.Variable(tf.zeros([num_nodes]))\n",
    "    hidden2 = tf.nn.relu(tf.matmul(hidden1, weights2) + biases2)\n",
    "    hidden2 = tf.nn.dropout(hidden2, keep_prob=keep_prob)\n",
    "    # layer 3\n",
    "    weights3 = tf.Variable(tf.truncated_normal([num_nodes, num_nodes], stddev = 0.15)) \n",
    "    biases3 = tf.Variable(tf.zeros([num_nodes]))\n",
    "    hidden3 = tf.nn.relu(tf.matmul(hidden2, weights3) + biases3)\n",
    "\n",
    "    # layer 4 / output\n",
    "    weights4 = tf.Variable(tf.truncated_normal([num_nodes, num_labels], stddev = 0.15)) \n",
    "    biases4 = tf.Variable(tf.zeros([num_labels]))\n",
    "    logits = tf.matmul(hidden3, weights4)+biases4\n",
    "    loss = tf.reduce_mean(\n",
    "    tf.nn.softmax_cross_entropy_with_logits(labels= tf_train_labels, logits = logits))\n",
    "    \n",
    "    #optimizer\n",
    "    optimizer = tf.train.GradientDescentOptimizer(learning_rate).minimize(loss)\n",
    "\n",
    "    # output\n",
    "    train_prediction = tf.nn.softmax(logits)\n",
    "    #validation\n",
    "    logits1_valid = tf.matmul(tf_valid_dataset, weights1) + biases1\n",
    "    sig1_valid = tf.nn.relu(logits1_valid)\n",
    "    logits2_valid = tf.matmul(sig1_valid, weights2)+ biases2\n",
    "    sig2_valid = tf.nn.relu(logits2_valid)\n",
    "    logits3_valid = tf.matmul(sig2_valid, weights3) + biases3\n",
    "    sig3_valid = tf.nn.relu(logits3_valid)\n",
    "    logits4_valid = tf.matmul(sig3_valid, weights4) + biases4\n",
    "    valid_prediction = tf.nn.softmax(logits4_valid)\n",
    "    #test\n",
    "    logits1_test = tf.matmul(tf_test_dataset, weights1) + biases1\n",
    "    sig1_test = tf.nn.relu(logits1_test)\n",
    "    logits2_test = tf.matmul(sig1_test, weights2)+ biases2\n",
    "    sig2_test = tf.nn.relu(logits2_test)\n",
    "    logits3_test = tf.matmul(sig2_test, weights3) + biases3\n",
    "    sig3_test = tf.nn.relu(logits3_test)\n",
    "    logits4_test = tf.matmul(sig3_test, weights4) + biases4\n",
    "    test_prediction = tf.nn.softmax(logits4_test)\n"
   ]
  },
  {
   "cell_type": "code",
   "execution_count": 92,
   "metadata": {},
   "outputs": [
    {
     "name": "stdout",
     "output_type": "stream",
     "text": [
      "Initialized\n",
      "batch loss at epoch 0: 0.141073\n",
      "batch accuracy: 95.945946%\n",
      "batch f1 score: 95.238095%\n",
      "validation accuracy: 98.048395%\n",
      "validation f1 score: 12.810458%\n",
      "batch loss at epoch 10: 0.003633\n",
      "batch accuracy: 100.000000%\n",
      "batch f1 score: 100.000000%\n",
      "validation accuracy: 99.365070%\n",
      "validation f1 score: 32.398754%\n",
      "batch loss at epoch 20: 0.003106\n",
      "batch accuracy: 100.000000%\n",
      "batch f1 score: 100.000000%\n",
      "validation accuracy: 99.604998%\n",
      "validation f1 score: 42.553191%\n",
      "batch loss at epoch 30: 0.001689\n",
      "batch accuracy: 100.000000%\n",
      "batch f1 score: 100.000000%\n",
      "validation accuracy: 99.713257%\n",
      "validation f1 score: 50.505051%\n",
      "batch loss at epoch 40: 0.001483\n",
      "batch accuracy: 100.000000%\n",
      "batch f1 score: 100.000000%\n",
      "validation accuracy: 99.789332%\n",
      "validation f1 score: 58.139535%\n",
      "batch loss at epoch 50: 0.001205\n",
      "batch accuracy: 100.000000%\n",
      "batch f1 score: 100.000000%\n",
      "validation accuracy: 99.812740%\n",
      "validation f1 score: 60.493827%\n",
      "batch loss at epoch 60: 0.000721\n",
      "batch accuracy: 100.000000%\n",
      "batch f1 score: 100.000000%\n",
      "validation accuracy: 99.836147%\n",
      "validation f1 score: 63.636364%\n",
      "batch loss at epoch 70: 0.000680\n",
      "batch accuracy: 100.000000%\n",
      "batch f1 score: 100.000000%\n",
      "validation accuracy: 99.853703%\n",
      "validation f1 score: 66.216216%\n",
      "batch loss at epoch 80: 0.000607\n",
      "batch accuracy: 100.000000%\n",
      "batch f1 score: 100.000000%\n",
      "validation accuracy: 99.859555%\n",
      "validation f1 score: 67.123288%\n",
      "batch loss at epoch 90: 0.000685\n",
      "batch accuracy: 100.000000%\n",
      "batch f1 score: 100.000000%\n",
      "validation accuracy: 99.871258%\n",
      "validation f1 score: 69.014085%\n",
      "batch loss at epoch 100: 0.000326\n",
      "batch accuracy: 100.000000%\n",
      "batch f1 score: 100.000000%\n",
      "validation accuracy: 99.865407%\n",
      "validation f1 score: 68.055556%\n",
      "batch loss at epoch 110: 0.000538\n",
      "batch accuracy: 100.000000%\n",
      "batch f1 score: 100.000000%\n",
      "validation accuracy: 99.871258%\n",
      "validation f1 score: 69.014085%\n",
      "batch loss at epoch 120: 0.000558\n",
      "batch accuracy: 100.000000%\n",
      "batch f1 score: 100.000000%\n",
      "validation accuracy: 99.877110%\n",
      "validation f1 score: 70.000000%\n",
      "batch loss at epoch 130: 0.000585\n",
      "batch accuracy: 100.000000%\n",
      "batch f1 score: 100.000000%\n",
      "validation accuracy: 99.880036%\n",
      "validation f1 score: 70.503597%\n",
      "batch loss at epoch 140: 0.000972\n",
      "batch accuracy: 100.000000%\n",
      "batch f1 score: 100.000000%\n",
      "validation accuracy: 99.880036%\n",
      "validation f1 score: 70.503597%\n",
      "batch loss at epoch 150: 0.000237\n",
      "batch accuracy: 100.000000%\n",
      "batch f1 score: 100.000000%\n",
      "validation accuracy: 99.880036%\n",
      "validation f1 score: 70.503597%\n",
      "batch loss at epoch 160: 0.000269\n",
      "batch accuracy: 100.000000%\n",
      "batch f1 score: 100.000000%\n",
      "validation accuracy: 99.888814%\n",
      "validation f1 score: 72.058824%\n",
      "batch loss at epoch 170: 0.000186\n",
      "batch accuracy: 100.000000%\n",
      "batch f1 score: 100.000000%\n",
      "validation accuracy: 99.880036%\n",
      "validation f1 score: 70.503597%\n",
      "batch loss at epoch 180: 0.000365\n",
      "batch accuracy: 100.000000%\n",
      "batch f1 score: 100.000000%\n",
      "validation accuracy: 99.882962%\n",
      "validation f1 score: 71.014493%\n",
      "batch loss at epoch 190: 0.000225\n",
      "batch accuracy: 100.000000%\n",
      "batch f1 score: 100.000000%\n",
      "validation accuracy: 99.868333%\n",
      "validation f1 score: 68.531469%\n",
      "batch loss at epoch 200: 0.000210\n",
      "batch accuracy: 100.000000%\n",
      "batch f1 score: 100.000000%\n",
      "validation accuracy: 99.874184%\n",
      "validation f1 score: 69.503546%\n",
      "batch loss at epoch 210: 0.000339\n",
      "batch accuracy: 100.000000%\n",
      "batch f1 score: 100.000000%\n",
      "validation accuracy: 99.877110%\n",
      "validation f1 score: 70.000000%\n",
      "batch loss at epoch 220: 0.000169\n",
      "batch accuracy: 100.000000%\n",
      "batch f1 score: 100.000000%\n",
      "validation accuracy: 99.880036%\n",
      "validation f1 score: 70.072993%\n",
      "batch loss at epoch 230: 0.000106\n",
      "batch accuracy: 100.000000%\n",
      "batch f1 score: 100.000000%\n",
      "validation accuracy: 99.871258%\n",
      "validation f1 score: 69.014085%\n",
      "batch loss at epoch 240: 0.000082\n",
      "batch accuracy: 100.000000%\n",
      "batch f1 score: 100.000000%\n",
      "validation accuracy: 99.871258%\n",
      "validation f1 score: 69.014085%\n",
      "batch loss at epoch 250: 0.000055\n",
      "batch accuracy: 100.000000%\n",
      "batch f1 score: 100.000000%\n",
      "validation accuracy: 99.880036%\n",
      "validation f1 score: 70.503597%\n",
      "batch loss at epoch 260: 0.000102\n",
      "batch accuracy: 100.000000%\n",
      "batch f1 score: 100.000000%\n",
      "validation accuracy: 99.880036%\n",
      "validation f1 score: 70.921986%\n",
      "batch loss at epoch 270: 0.000104\n",
      "batch accuracy: 100.000000%\n",
      "batch f1 score: 100.000000%\n",
      "validation accuracy: 99.877110%\n",
      "validation f1 score: 70.422535%\n",
      "batch loss at epoch 280: 0.000062\n",
      "batch accuracy: 100.000000%\n",
      "batch f1 score: 100.000000%\n",
      "validation accuracy: 99.871258%\n",
      "validation f1 score: 69.444444%\n",
      "batch loss at epoch 290: 0.000062\n",
      "batch accuracy: 100.000000%\n",
      "batch f1 score: 100.000000%\n",
      "validation accuracy: 99.871258%\n",
      "validation f1 score: 69.444444%\n",
      "batch loss at epoch 300: 0.000138\n",
      "batch accuracy: 100.000000%\n",
      "batch f1 score: 100.000000%\n",
      "validation accuracy: 99.885888%\n",
      "validation f1 score: 71.532847%\n",
      "batch loss at epoch 310: 0.000084\n",
      "batch accuracy: 100.000000%\n",
      "batch f1 score: 100.000000%\n",
      "validation accuracy: 99.877110%\n",
      "validation f1 score: 70.000000%\n",
      "\n",
      "Optimization Finished!\n",
      "test accuracy: 99.910467%\n",
      "test recall: 83.333333%\n",
      "test precision: 65.420561%\n",
      "test f1 score: 73.298429%\n",
      "number of fraud in test set:  84\n",
      "number of normal transactions in test set:  56878\n",
      "number of predicted fraud in test:  107\n",
      "number of predicted normal transactions in test:  56855\n",
      "corrected predicted fraud in test:  70\n"
     ]
    }
   ],
   "source": [
    "accuracy_summary = [] # Record accuracy \n",
    "recall_summary = [] # Record recall\n",
    "precision_summary = []\n",
    "f1_summary = []\n",
    "valid_accuracy_summary = [] \n",
    "valid_recall_summary = []\n",
    "valid_precision_summary = []\n",
    "valid_f1_summary = []\n",
    "stop_early = 0\n",
    "with tf.Session(graph=graph) as sess:\n",
    "    sess.run(tf.global_variables_initializer())\n",
    "    print('Initialized')\n",
    "    for epoch in range(training_epochs): \n",
    "        for batch in range(int(num_samples/batch_size)):\n",
    "            batch_data = inputX[batch*batch_size : (1+batch)*batch_size]\n",
    "            batch_labels = inputY[batch*batch_size : (1+batch)*batch_size]\n",
    "\n",
    "            _,l, predictions = sess.run(\n",
    "            [optimizer, loss, train_prediction], feed_dict={tf_train_dataset:batch_data, tf_train_labels:batch_labels})\n",
    "        if (epoch%10 == 0):\n",
    "            print (\"batch loss at epoch %d: %f\" % (epoch, l))\n",
    "            train_accuracy = accuracy(predictions, batch_labels)\n",
    "            print (\"batch accuracy: %.6f%%\" % train_accuracy)\n",
    "            train_recall = recall(batch_labels, predictions)\n",
    "            train_precision = precision(batch_labels, predictions)\n",
    "            train_f1 = 2 * (train_precision * train_recall) / (train_precision + train_recall)\n",
    "            print (\"batch f1 score: %.6f%%\" % train_f1)\n",
    "            \n",
    "            valid_prediction_result = valid_prediction.eval()\n",
    "            valid_accuracy = accuracy(valid_prediction_result, inputY_valid)\n",
    "            print (\"validation accuracy: %.6f%%\" % valid_accuracy)\n",
    "            valid_recall = recall(inputY_valid, valid_prediction_result)\n",
    "            valid_precision = precision(inputY_valid, valid_prediction_result)\n",
    "            valid_f1 = 2 * (valid_precision * valid_recall) / (valid_precision + valid_recall)\n",
    "            print (\"validation f1 score: %.6f%%\" % valid_f1)\n",
    "            \n",
    "            \n",
    "            # Record the results of the model\n",
    "            accuracy_summary.append(train_accuracy)\n",
    "            recall_summary.append(train_recall)\n",
    "            precision_summary.append(train_precision)\n",
    "            f1_summary.append(train_f1)\n",
    "            valid_accuracy_summary.append(valid_accuracy)\n",
    "            valid_recall_summary.append(valid_recall)\n",
    "            valid_precision_summary.append(valid_precision)\n",
    "            valid_f1_summary.append(valid_f1)\n",
    "            \n",
    "            # If f1 score does not improve after 15 logs, stop the training.\n",
    "            if valid_f1 < max(valid_f1_summary) and epoch > 100:\n",
    "                stop_early += 1\n",
    "                if stop_early == 15:\n",
    "                    break\n",
    "            else:\n",
    "                stop_early = 0\n",
    "            \n",
    "    print()\n",
    "    print(\"Optimization Finished!\")\n",
    "    test_prediction_result = test_prediction.eval()\n",
    "    test_recall = recall(inputY_test, test_prediction_result)\n",
    "    test_precision = precision(inputY_test, test_prediction_result)\n",
    "    print (\"test accuracy: %.6f%%\" % accuracy(test_prediction_result, inputY_test))\n",
    "    print (\"test recall: %.6f%%\" % test_recall)\n",
    "    print (\"test precision: %.6f%%\" % test_precision)\n",
    "    print (\"test f1 score: %.6f%%\" % (2 * (test_precision * test_recall) / (test_precision + test_recall)))\n",
    "    print (\"number of fraud in test set: \" , sum(inputY_test[:,1]==1))\n",
    "    print (\"number of normal transactions in test set: \" , sum(inputY_test[:,1]==0))\n",
    "    print (\"number of predicted fraud in test: \", sum(np.argmax(test_prediction_result, 1)==1))\n",
    "    print (\"number of predicted normal transactions in test: \", sum(np.argmax(test_prediction_result, 1)==0))\n",
    "    print (\"corrected predicted fraud in test: \", len([i for i in range(inputY_test.shape[0]) if np.argmax(inputY_test[i, :])==1 and np.argmax(test_prediction_result[i, :])==1]))\n",
    "    "
   ]
  },
  {
   "cell_type": "code",
   "execution_count": 96,
   "metadata": {},
   "outputs": [
    {
     "data": {
      "image/png": "[encoded data removed]",
      "text/plain": [
       "<matplotlib.figure.Figure at 0x24a31ef3198>"
      ]
     },
     "metadata": {},
     "output_type": "display_data"
    }
   ],
   "source": [
    "# Plot the model metrics\n",
    "f, (ax1, ax2, ax3, ax4) = plt.subplots(4, 1, sharex=True, figsize=(10,10))\n",
    "\n",
    "ax1.plot(accuracy_summary) # blue\n",
    "ax1.plot(valid_accuracy_summary) # green\n",
    "ax1.set_title('Accuracy')\n",
    "\n",
    "ax2.plot(recall_summary)\n",
    "ax2.plot(valid_recall_summary)\n",
    "ax2.set_title('Recall')\n",
    "\n",
    "ax3.plot(precision_summary)\n",
    "ax3.plot(valid_precision_summary)\n",
    "ax3.set_title('Precision')\n",
    "\n",
    "ax4.plot(f1_summary)\n",
    "ax4.plot(valid_f1_summary)\n",
    "ax4.set_title('F1 Score')\n",
    "\n",
    "plt.xlabel('Epochs (x10)')\n",
    "plt.show()"
   ]
  },
  {
   "cell_type": "markdown",
   "metadata": {},
   "source": [
    "With this Deep Learning model, we achieved 83.3% recall, which is the percentage of corrected classified fraud out of the total number of true fraud.  Only 0.065% normal transactions were mistaken as fraud, which is pretty good."
   ]
  },
  {
   "cell_type": "markdown",
   "metadata": {},
   "source": [
    "How did we fare against a shallow classifier?"
   ]
  },
  {
   "cell_type": "code",
   "execution_count": 102,
   "metadata": {},
   "outputs": [
    {
     "data": {
      "text/plain": [
       "LogisticRegression(C=1.0, class_weight=None, dual=False, fit_intercept=True,\n",
       "          intercept_scaling=1, max_iter=100, multi_class='ovr', n_jobs=1,\n",
       "          penalty='l2', random_state=None, solver='liblinear', tol=0.0001,\n",
       "          verbose=0, warm_start=False)"
      ]
     },
     "execution_count": 102,
     "metadata": {},
     "output_type": "execute_result"
    }
   ],
   "source": [
    "logreg = LogisticRegression()\n",
    "logreg.fit(inputX,inputY[:,1])"
   ]
  },
  {
   "cell_type": "code",
   "execution_count": 103,
   "metadata": {
    "collapsed": true
   },
   "outputs": [],
   "source": [
    "test_label_logreg = logreg.predict(inputX_test)"
   ]
  },
  {
   "cell_type": "code",
   "execution_count": 112,
   "metadata": {},
   "outputs": [
    {
     "data": {
      "text/plain": [
       "0.10461114934618032"
      ]
     },
     "execution_count": 112,
     "metadata": {},
     "output_type": "execute_result"
    }
   ],
   "source": [
    "f1_score(inputY_test[:,1], test_label_logreg)"
   ]
  },
  {
   "cell_type": "code",
   "execution_count": 114,
   "metadata": {},
   "outputs": [
    {
     "data": {
      "text/plain": [
       "SVC(C=1.0, cache_size=200, class_weight=None, coef0=0.0,\n",
       "  decision_function_shape='ovr', degree=3, gamma='auto', kernel='rbf',\n",
       "  max_iter=-1, probability=False, random_state=None, shrinking=True,\n",
       "  tol=0.001, verbose=False)"
      ]
     },
     "execution_count": 114,
     "metadata": {},
     "output_type": "execute_result"
    }
   ],
   "source": [
    "clf = SVC()\n",
    "clf.fit(inputX,inputY[:,1])"
   ]
  },
  {
   "cell_type": "code",
   "execution_count": 116,
   "metadata": {
    "collapsed": true
   },
   "outputs": [],
   "source": [
    "test_label_svm = clf.predict(inputX_test)"
   ]
  },
  {
   "cell_type": "code",
   "execution_count": 117,
   "metadata": {},
   "outputs": [
    {
     "data": {
      "text/plain": [
       "0.10461114934618032"
      ]
     },
     "execution_count": 117,
     "metadata": {},
     "output_type": "execute_result"
    }
   ],
   "source": [
    "f1_score(inputY_test[:,1], test_label_logreg)"
   ]
  }
 ],
 "metadata": {
  "kernelspec": {
   "display_name": "Python 3",
   "language": "python",
   "name": "python3"
  },
  "language_info": {
   "codemirror_mode": {
    "name": "ipython",
    "version": 3
   },
   "file_extension": ".py",
   "mimetype": "text/x-python",
   "name": "python",
   "nbconvert_exporter": "python",
   "pygments_lexer": "ipython3",
   "version": "3.5.3"
  }
 },
 "nbformat": 4,
 "nbformat_minor": 2
}
